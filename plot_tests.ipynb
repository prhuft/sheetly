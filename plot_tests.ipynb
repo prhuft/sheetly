{
 "cells": [
  {
   "cell_type": "code",
   "execution_count": 23,
   "id": "unlimited-fifty",
   "metadata": {},
   "outputs": [],
   "source": [
    "from numpy import *\n",
    "import matplotlib.pyplot as plt\n",
    "from matplotlib.patches import Circle"
   ]
  },
  {
   "cell_type": "code",
   "execution_count": 54,
   "id": "finite-daily",
   "metadata": {},
   "outputs": [],
   "source": [
    "class Sheetly:\n",
    "\n",
    "    # maps notes to vertical positions on the grid\n",
    "    NOTE_MAP = {}\n",
    "\n",
    "    def draw_staff(xbounds=[0,20],ybounds=[-1,15]):\n",
    "        \"\"\"\n",
    "        returns the Figure and AxesSubplot associated with the staff plot\n",
    "\n",
    "        Plot ranges from 0-10 in y and 0-10\n",
    "        \"\"\"\n",
    "\n",
    "        fig, ax = plt.subplots()\n",
    "        for i in range(5):\n",
    "            ax.axhline(i,c='k')\n",
    "\n",
    "        for i in range(5):\n",
    "            ax.axhline(i+10,c='k')\n",
    "\n",
    "        ax.set_aspect('equal')\n",
    "        ax.set_ylim(ybounds)\n",
    "        ax.set_xlim(xbounds)\n",
    "        ax.axis('off')\n",
    "\n",
    "        return fig, ax\n",
    "\n",
    "    # TODO: make elliptical like actual note symbol\n",
    "    def draw_notes(notes, ax, duration=None, xvals=None):\n",
    "        \"\"\"\n",
    "        Draws a Circle patch note on the ax passed in\n",
    "\n",
    "        Args:\n",
    "            note: the list note(s) to be plotted, e.g. A4 (?)\n",
    "            the position of the note on the staff is determined\n",
    "            by a dictionary.\n",
    "            xvals: the list of x location(s) on the staff. defaults \n",
    "            to center of ax if not specified \n",
    "        \"\"\"\n",
    "\n",
    "        if xvals == None:\n",
    "            x1,x2 = ax.get_xlim()\n",
    "            xvals = [(x1+x2/2)]*len(notes)\n",
    "        \n",
    "        # hardcoded for test. change later.\n",
    "        for note, x in zip(notes, xvals):\n",
    "            ax.add_patch(Circle((x,11),0.5,color='k'))\n",
    "            \n",
    "    def record_result():\n",
    "        # could write answers and responses to file for generating\n",
    "        # learning stats\n",
    "        pass"
   ]
  },
  {
   "cell_type": "code",
   "execution_count": 55,
   "id": "consecutive-rabbit",
   "metadata": {},
   "outputs": [
    {
     "data": {
      "image/png": "[encoded data removed]",
      "text/plain": [
       "<Figure size 432x288 with 1 Axes>"
      ]
     },
     "metadata": {
      "needs_background": "light"
     },
     "output_type": "display_data"
    }
   ],
   "source": [
    "fig, ax = draw_staff()\n",
    "draw_note('C', ax)"
   ]
  },
  {
   "cell_type": "code",
   "execution_count": null,
   "id": "narrow-computer",
   "metadata": {},
   "outputs": [],
   "source": []
  }
 ],
 "metadata": {
  "kernelspec": {
   "display_name": "Python 3",
   "language": "python",
   "name": "python3"
  },
  "language_info": {
   "codemirror_mode": {
    "name": "ipython",
    "version": 3
   },
   "file_extension": ".py",
   "mimetype": "text/x-python",
   "name": "python",
   "nbconvert_exporter": "python",
   "pygments_lexer": "ipython3",
   "version": "3.9.0"
  }
 },
 "nbformat": 4,
 "nbformat_minor": 5
}
