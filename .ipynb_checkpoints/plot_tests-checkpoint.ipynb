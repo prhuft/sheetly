{
 "cells": [
  {
   "cell_type": "code",
   "execution_count": 2,
   "id": "unlimited-fifty",
   "metadata": {},
   "outputs": [],
   "source": [
    "import numpy as np\n",
    "import numpy.random as rand\n",
    "import matplotlib.pyplot as plt\n",
    "from matplotlib.patches import Circle\n",
    "from sheetly import Sheetly"
   ]
  },
  {
   "cell_type": "code",
   "execution_count": 3,
   "id": "compact-thomson",
   "metadata": {},
   "outputs": [
    {
     "name": "stdout",
     "output_type": "stream",
     "text": [
      "B\n"
     ]
    },
    {
     "data": {
      "image/png": "[encoded data removed]",
      "text/plain": [
       "<Figure size 432x288 with 1 Axes>"
      ]
     },
     "metadata": {
      "needs_background": "light"
     },
     "output_type": "display_data"
    }
   ],
   "source": [
    "s = Sheetly()\n",
    "fig, ax = s.draw_staff(axis=True)\n",
    "# y,note = (18,'C4')\n",
    "y0 = 2\n",
    "# y,note = (y0,s.treb_y(y0))\n",
    "# y,note = (14,s.treb_y(14))\n",
    "# y,note = (12,s.bass_y(12))\n",
    "y,note = (y0,s.bass_y(y0))\n",
    "# y,note = s.get_rand_note()\n",
    "# print(\"bass range\", s.bass_range)\n",
    "print(note)\n",
    "s.draw_notes([y],ax)"
   ]
  },
  {
   "cell_type": "code",
   "execution_count": null,
   "id": "570ab86e",
   "metadata": {},
   "outputs": [],
   "source": []
  }
 ],
 "metadata": {
  "kernelspec": {
   "display_name": "Python 3 (ipykernel)",
   "language": "python",
   "name": "python3"
  },
  "language_info": {
   "codemirror_mode": {
    "name": "ipython",
    "version": 3
   },
   "file_extension": ".py",
   "mimetype": "text/x-python",
   "name": "python",
   "nbconvert_exporter": "python",
   "pygments_lexer": "ipython3",
   "version": "3.9.6"
  }
 },
 "nbformat": 4,
 "nbformat_minor": 5
}
